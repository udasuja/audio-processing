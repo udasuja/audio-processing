{
  "nbformat": 4,
  "nbformat_minor": 0,
  "metadata": {
    "colab": {
      "provenance": [],
      "gpuType": "T4"
    },
    "kernelspec": {
      "name": "python3",
      "display_name": "Python 3"
    },
    "language_info": {
      "name": "python"
    },
    "accelerator": "GPU"
  },
  "cells": [
    {
      "cell_type": "markdown",
      "source": [
        "- 한국어 음성 —> STT —> translate_ko_to_en() —> tts_english() —> 번역된 영어음성"
      ],
      "metadata": {
        "id": "ghcO__fxGOfT"
      }
    },
    {
      "cell_type": "code",
      "source": [
        "# 필요한 패키지 설치\n",
        "# !pip install transformers accelerate soundfile librosa\n",
        "# 1) 의존성 설치\n",
        "!pip install gTTS\n",
        "!pip install playsound==1.2.2\n",
        "\n",
        "# 2) TTS 변환 및 저장\n",
        "from gtts import gTTS\n",
        "from IPython.display import Audio\n",
        "\n",
        "import warnings\n",
        "warnings.filterwarnings(\"ignore\")\n",
        "\n",
        "import torch\n",
        "from transformers import WhisperProcessor, WhisperForConditionalGeneration\n",
        "from transformers import MarianMTModel, MarianTokenizer\n",
        "import soundfile as sf\n",
        "import librosa\n",
        "import numpy as np\n",
        "from base64 import b64decode\n",
        "from google.colab.output import eval_js\n",
        "from IPython.display import display\n",
        "import time\n",
        "\n",
        "# 1) 모델과 프로세서 로드\n",
        "processor = WhisperProcessor.from_pretrained(\"openai/whisper-small\")\n",
        "model = WhisperForConditionalGeneration.from_pretrained(\"openai/whisper-small\")\n",
        "device = torch.device(\"cuda\" if torch.cuda.is_available() else \"cpu\")\n",
        "model.to(device)\n",
        "\n",
        "# 2) 파일 단위 인식 함수\n",
        "def transcribe_file(path): #음성 파일을 입력받아 그것을 출력하도록 하는 함수\n",
        "    try:\n",
        "        audio, sr = sf.read(path)\n",
        "    except:\n",
        "        audio, sr = librosa.load(path, sr=16000)  #wave form내 8kHz 안에 있는 data 보겠다.\n",
        "    inputs = processor(audio, sampling_rate=sr, return_tensors=\"pt\", padding=True)\n",
        "    input_features = inputs.input_features.to(device)\n",
        "\n",
        "    # Whisper가 기대하는 입력 길이 계산(최대 30s)\n",
        "    encoder = model.model.encoder\n",
        "    stride1 = encoder.conv1.stride[0]\n",
        "    stride2 = encoder.conv2.stride[0]\n",
        "    expected_len = model.config.max_source_positions * stride1 * stride2\n",
        "\n",
        "    seq_len = input_features.shape[-1]\n",
        "    if seq_len < expected_len:\n",
        "        pad_len = expected_len - seq_len\n",
        "        input_features = torch.nn.functional.pad(input_features, (0, pad_len))\n",
        "    elif seq_len > expected_len:\n",
        "        input_features = input_features[..., :expected_len]\n",
        "\n",
        "    # attention_mask 생성\n",
        "    attention_mask = torch.ones(input_features.shape[:-1], device=device)\n",
        "\n",
        "    with torch.no_grad():\n",
        "        predicted_ids = model.generate(\n",
        "            input_features=input_features,\n",
        "            attention_mask=attention_mask\n",
        "        )\n",
        "    return processor.batch_decode(predicted_ids, skip_special_tokens=True)[0]\n",
        "\n",
        "# 3) 마이크 권한 요청\n",
        "print(\"마이크 권한 요청 중…\")\n",
        "eval_js(\"\"\"\n",
        "  navigator.mediaDevices.getUserMedia({ audio: true })\n",
        "    .then(stream => stream.getTracks().forEach(t => t.stop()))\n",
        "    .catch(e => console.error(e));\n",
        "\"\"\")\n",
        "\n",
        "# 4) 녹음 및 인식 함수 (UI 개선)\n",
        "def record_and_transcribe_ui(filename=\"recorded_audio.webm\", duration=3):\n",
        "    status = display(\"준비 중\", display_id=True)\n",
        "    status.update(\"🔴 녹음 중\")\n",
        "    js = f\"\"\"\n",
        "    async function recordAudio() {{\n",
        "      const stream = await navigator.mediaDevices.getUserMedia({{ audio: true }});\n",
        "      const recorder = new MediaRecorder(stream);\n",
        "      const chunks = [];\n",
        "      recorder.ondataavailable = e => chunks.push(e.data);\n",
        "      recorder.start();\n",
        "      await new Promise(r => setTimeout(r, {duration * 1000}));\n",
        "      recorder.stop();\n",
        "      await new Promise(r => recorder.onstop = r);\n",
        "      const blob = new Blob(chunks);\n",
        "      const reader = new FileReader();\n",
        "      reader.readAsDataURL(blob);\n",
        "      return await new Promise(res => reader.onloadend = () => res(reader.result.split(',')[1]));\n",
        "    }}\n",
        "    recordAudio();\n",
        "    \"\"\"\n",
        "    try:\n",
        "        b64data = eval_js(js)\n",
        "        audio_bytes = b64decode(b64data)\n",
        "        with open(filename, \"wb\") as f:\n",
        "            f.write(audio_bytes)\n",
        "\n",
        "        # 인식 진행 표시\n",
        "        for i in range(6):\n",
        "            status.update(\"⌛ 인식 중\" + \".\" * ((i % 3) + 1))\n",
        "            time.sleep(0.5)\n",
        "\n",
        "        result = transcribe_file(filename)\n",
        "        status.update(f\"✅ 인식 결과: {result}\")\n",
        "        return result\n",
        "\n",
        "    except Exception as e:\n",
        "        status.update(f\"⚠️ 오류 발생: {e}\")\n",
        "        raise\n"
      ],
      "metadata": {
        "colab": {
          "base_uri": "https://localhost:8080/",
          "height": 180
        },
        "id": "9B2UEr7eHUzG",
        "outputId": "36f67890-f8d1-4318-b266-7263a6aa90be"
      },
      "execution_count": 15,
      "outputs": [
        {
          "output_type": "stream",
          "name": "stdout",
          "text": [
            "Requirement already satisfied: gTTS in /usr/local/lib/python3.11/dist-packages (2.5.4)\n",
            "Requirement already satisfied: requests<3,>=2.27 in /usr/local/lib/python3.11/dist-packages (from gTTS) (2.32.3)\n",
            "Requirement already satisfied: click<8.2,>=7.1 in /usr/local/lib/python3.11/dist-packages (from gTTS) (8.1.8)\n",
            "Requirement already satisfied: charset-normalizer<4,>=2 in /usr/local/lib/python3.11/dist-packages (from requests<3,>=2.27->gTTS) (3.4.2)\n",
            "Requirement already satisfied: idna<4,>=2.5 in /usr/local/lib/python3.11/dist-packages (from requests<3,>=2.27->gTTS) (3.10)\n",
            "Requirement already satisfied: urllib3<3,>=1.21.1 in /usr/local/lib/python3.11/dist-packages (from requests<3,>=2.27->gTTS) (2.5.0)\n",
            "Requirement already satisfied: certifi>=2017.4.17 in /usr/local/lib/python3.11/dist-packages (from requests<3,>=2.27->gTTS) (2025.7.14)\n",
            "Requirement already satisfied: playsound==1.2.2 in /usr/local/lib/python3.11/dist-packages (1.2.2)\n",
            "마이크 권한 요청 중…\n"
          ]
        }
      ]
    },
    {
      "cell_type": "code",
      "execution_count": 25,
      "metadata": {
        "colab": {
          "base_uri": "https://localhost:8080/",
          "height": 147
        },
        "id": "9p7m1KNr8KeT",
        "outputId": "1bac7f1b-374a-4564-b197-7b4346e1d452"
      },
      "outputs": [
        {
          "output_type": "display_data",
          "data": {
            "text/plain": [
              "'✅ 인식 결과:  the'"
            ],
            "application/vnd.google.colaboratory.intrinsic+json": {
              "type": "string"
            }
          },
          "metadata": {}
        },
        {
          "output_type": "stream",
          "name": "stdout",
          "text": [
            " the\n",
            "한국어 입력:  the\n",
            "영어 번역: 主 は 言 わ れ た ,\n"
          ]
        },
        {
          "output_type": "execute_result",
          "data": {
            "text/plain": [
              "<IPython.lib.display.Audio object>"
            ],
            "text/html": [
              "\n",
              "                <audio  controls=\"controls\" >\n",
              "                    <source src=\"data:audio/mpeg;base64,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\" type=\"audio/mpeg\" />\n",
              "                    Your browser does not support the audio element.\n",
              "                </audio>\n",
              "              "
            ]
          },
          "metadata": {},
          "execution_count": 25
        }
      ],
      "source": [
        "\n",
        "import IPython.display as ipd\n",
        "\n",
        "# 한국어 → 영어 번역 모델명\n",
        "model_name = 'Helsinki-NLP/opus-mt-ko-en'\n",
        "\n",
        "# 토크나이저와 모델 불러오기\n",
        "tokenizer = MarianTokenizer.from_pretrained(model_name)\n",
        "model_en = MarianMTModel.from_pretrained(model_name) #위에서 model이라는 이름으로 WhisperForConditionalGeneration.from_pretrained(\"openai/whisper-small\") 받았기에 이름을 다르게 해야한다.\n",
        "\n",
        "def translate_ko_to_en(text): #한국어를 영어로 번역\n",
        "    # 토큰화  -> text를 token으로 쪼갠다.\n",
        "    inputs = tokenizer(text, return_tensors=\"pt\", padding=True)\n",
        "    # 번역 생성 -> 각 token에 대한 번역을 생성하되, transformer기반이므로 이전 token을 참고해서 번역한다.\n",
        "    translated = model_en.generate(**inputs)\n",
        "    # 디코딩  -> 번역한 각 임베딩 벡터를 한국어로 변환한다.\n",
        "    translated_text = tokenizer.decode(translated[0], skip_special_tokens=True)\n",
        "    return translated_text\n",
        "\n",
        "def tts_english(text, filename=\"output_en.mp3\"):  #영어 text를 발음하는 음성파일 생성\n",
        "    tts = gTTS(text=text, lang='en')  #영어 음성파일을 gTTS모델 생성한다.\n",
        "    tts.save(filename)\n",
        "    return filename\n",
        "\n",
        "# --- 테스트 문장 ---\n",
        "ko_text=record_and_transcribe_ui(duration=3)\n",
        "print(ko_text)\n",
        "\n",
        "# 1) 번역\n",
        "en_text = translate_ko_to_en(ko_text)\n",
        "print(f\"한국어 입력: {ko_text}\")\n",
        "print(f\"영어 번역: {en_text}\")\n",
        "\n",
        "# 2) 영어 음성 합성 및 재생\n",
        "mp3_file = tts_english(en_text)\n",
        "ipd.Audio(mp3_file)"
      ]
    },
    {
      "cell_type": "markdown",
      "source": [
        "한국어 음성-> STT -> mbart-large-50-many-to-many-mmt -> translate_ko_to_ja_mbart -> 번역된 일본어 음성"
      ],
      "metadata": {
        "id": "H_T_jcEAT6Rc"
      }
    },
    {
      "cell_type": "code",
      "source": [
        "from transformers import MBartForConditionalGeneration, MBart50TokenizerFast\n",
        "import IPython.display as ipd\n",
        "\n",
        "model_name = \"facebook/mbart-large-50-many-to-many-mmt\"\n",
        "\n",
        "tokenizer = MBart50TokenizerFast.from_pretrained(model_name)\n",
        "model_jap = MBartForConditionalGeneration.from_pretrained(model_name)\n",
        "\n",
        "def translate_ko_to_ja_mbart(text):\n",
        "    tokenizer.src_lang = \"ko_KR\"\n",
        "    encoded = tokenizer(text, return_tensors=\"pt\")\n",
        "    generated_tokens = model_jap.generate(**encoded, forced_bos_token_id=tokenizer.lang_code_to_id[\"ja_XX\"])\n",
        "    return tokenizer.decode(generated_tokens[0], skip_special_tokens=True)\n",
        "\n",
        "ko_text=record_and_transcribe_ui(duration=3)\n",
        "print(ko_text)\n",
        "ja_text = translate_ko_to_ja_mbart(ko_text)\n",
        "print(\"한국어:\", ko_text)\n",
        "print(\"일본어:\", ja_text)\n",
        "\n",
        "tts = gTTS(text=ja_text, lang='ja')\n",
        "tts.save(\"japanese.mp3\")\n",
        "ipd.Audio(\"japanese.mp3\",autoplay=\"true\")"
      ],
      "metadata": {
        "colab": {
          "base_uri": "https://localhost:8080/",
          "height": 147
        },
        "id": "5qVGtOmKUIJx",
        "outputId": "0b277e8b-cf86-4bdf-b0e7-20d6698e7b87"
      },
      "execution_count": 6,
      "outputs": [
        {
          "output_type": "display_data",
          "data": {
            "text/plain": [
              "'✅ 인식 결과:  당신을 좋아합니다.'"
            ],
            "application/vnd.google.colaboratory.intrinsic+json": {
              "type": "string"
            }
          },
          "metadata": {}
        },
        {
          "output_type": "stream",
          "name": "stdout",
          "text": [
            " 당신을 좋아합니다.\n",
            "한국어:  당신을 좋아합니다.\n",
            "일본어: あなたを愛しています。\n"
          ]
        },
        {
          "output_type": "execute_result",
          "data": {
            "text/plain": [
              "<IPython.lib.display.Audio object>"
            ],
            "text/html": [
              "\n",
              "                <audio  controls=\"controls\" autoplay=\"autoplay\">\n",
              "                    <source src=\"data:audio/mpeg;base64,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\" type=\"audio/mpeg\" />\n",
              "                    Your browser does not support the audio element.\n",
              "                </audio>\n",
              "              "
            ]
          },
          "metadata": {},
          "execution_count": 6
        }
      ]
    },
    {
      "cell_type": "markdown",
      "source": [
        "한국어 음성-> STT ->Helsinki-NLP/opus-mt-ko-fr->translate_ko_to_fr-> 번역된 프랑스음성"
      ],
      "metadata": {
        "id": "oyrivwM3W0XE"
      }
    },
    {
      "cell_type": "code",
      "source": [
        "from transformers import MarianMTModel, MarianTokenizer\n",
        "import IPython.display as ipd\n",
        "\n",
        "model_name = 'Helsinki-NLP/opus-mt-ko-fr'\n",
        "tokenizer = MarianTokenizer.from_pretrained(model_name)\n",
        "model_fr = MarianMTModel.from_pretrained(model_name)\n",
        "\n",
        "def translate_ko_to_fr(text):\n",
        "    inputs = tokenizer(text, return_tensors=\"pt\", padding=True)\n",
        "    outputs = model_fr.generate(**inputs)\n",
        "    return tokenizer.decode(outputs[0], skip_special_tokens=True)\n",
        "\n",
        "ko_text=record_and_transcribe_ui(duration=3)\n",
        "print(ko_text)\n",
        "fr_text = translate_ko_to_fr(ko_text)\n",
        "print(f\"한국어: {ko_text}\")\n",
        "print(f\"프랑스어: {fr_text}\")\n",
        "\n",
        "tts = gTTS(text=fr_text, lang='fr')\n",
        "tts.save(\"france.mp3\")\n",
        "ipd.Audio(\"france.mp3\",autoplay=\"true\")"
      ],
      "metadata": {
        "colab": {
          "base_uri": "https://localhost:8080/",
          "height": 147
        },
        "id": "mb9f-1l4W0qa",
        "outputId": "99febcd5-5561-4a2e-bf1b-085521f3a5e9"
      },
      "execution_count": 12,
      "outputs": [
        {
          "output_type": "display_data",
          "data": {
            "text/plain": [
              "'✅ 인식 결과:  야, 니는 사장 나오라고 그래'"
            ],
            "application/vnd.google.colaboratory.intrinsic+json": {
              "type": "string"
            }
          },
          "metadata": {}
        },
        {
          "output_type": "stream",
          "name": "stdout",
          "text": [
            " 야, 니는 사장 나오라고 그래\n",
            "한국어:  야, 니는 사장 나오라고 그래\n",
            "프랑스어: Dis-lui de partir.\n"
          ]
        },
        {
          "output_type": "execute_result",
          "data": {
            "text/plain": [
              "<IPython.lib.display.Audio object>"
            ],
            "text/html": [
              "\n",
              "                <audio  controls=\"controls\" autoplay=\"autoplay\">\n",
              "                    <source src=\"data:audio/mpeg;base64,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\" type=\"audio/mpeg\" />\n",
              "                    Your browser does not support the audio element.\n",
              "                </audio>\n",
              "              "
            ]
          },
          "metadata": {},
          "execution_count": 12
        }
      ]
    },
    {
      "cell_type": "markdown",
      "source": [
        "이번에는 한국어 음성을 베트남어 text로 번역 후 베트남 음성출력"
      ],
      "metadata": {
        "id": "dKpRCka1YMux"
      }
    },
    {
      "cell_type": "code",
      "source": [
        "import IPython.display as ipd\n",
        "from transformers import MBartForConditionalGeneration, MBart50TokenizerFast\n",
        "\n",
        "model_name = \"facebook/mbart-large-50-many-to-many-mmt\"\n",
        "tokenizer = MBart50TokenizerFast.from_pretrained(model_name)\n",
        "model_vi = MBartForConditionalGeneration.from_pretrained(model_name)\n",
        "\n",
        "def translate_ko_to_vi_mbart(text):\n",
        "    tokenizer.src_lang = \"ko_KR\"\n",
        "    encoded = tokenizer(text, return_tensors=\"pt\", padding=True)\n",
        "    generated_tokens = model_vi.generate(\n",
        "        **encoded,\n",
        "        forced_bos_token_id=tokenizer.lang_code_to_id[\"vi_VN\"],\n",
        "        max_length=100,\n",
        "        num_beams=5,\n",
        "        early_stopping=True\n",
        "    )\n",
        "    return tokenizer.decode(generated_tokens[0], skip_special_tokens=True)\n",
        "\n",
        "ko_text = record_and_transcribe_ui(duration=3)\n",
        "vi_text = translate_ko_to_vi_mbart(ko_text)\n",
        "print(\"한국어:\", ko_text)\n",
        "print(\"베트남어:\", vi_text)\n",
        "\n",
        "tts = gTTS(text=vi_text, lang='vi')\n",
        "tts.save(\"vietnam.mp3\")\n",
        "ipd.Audio(\"vietnam.mp3\",autoplay=\"true\")"
      ],
      "metadata": {
        "colab": {
          "base_uri": "https://localhost:8080/",
          "height": 129
        },
        "id": "RaOu48hYYSMG",
        "outputId": "aa500609-f4be-4cce-ca53-d4cb1258568a"
      },
      "execution_count": 16,
      "outputs": [
        {
          "output_type": "display_data",
          "data": {
            "text/plain": [
              "'✅ 인식 결과:  여기는 베트남입니다.'"
            ],
            "application/vnd.google.colaboratory.intrinsic+json": {
              "type": "string"
            }
          },
          "metadata": {}
        },
        {
          "output_type": "stream",
          "name": "stdout",
          "text": [
            "한국어:  여기는 베트남입니다.\n",
            "베트남어: Đây là Vietnam.\n"
          ]
        },
        {
          "output_type": "execute_result",
          "data": {
            "text/plain": [
              "<IPython.lib.display.Audio object>"
            ],
            "text/html": [
              "\n",
              "                <audio  controls=\"controls\" autoplay=\"autoplay\">\n",
              "                    <source src=\"data:audio/mpeg;base64,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\" type=\"audio/mpeg\" />\n",
              "                    Your browser does not support the audio element.\n",
              "                </audio>\n",
              "              "
            ]
          },
          "metadata": {},
          "execution_count": 16
        }
      ]
    },
    {
      "cell_type": "markdown",
      "source": [
        "FastSpeech2실습"
      ],
      "metadata": {
        "id": "2a7F7iSRb592"
      }
    },
    {
      "cell_type": "code",
      "source": [
        "%cd /content\n",
        "!wget https://data.keithito.com/data/speech/LJSpeech-1.1.tar.bz2\n",
        "!tar -xjf LJSpeech-1.1.tar.bz2"
      ],
      "metadata": {
        "colab": {
          "base_uri": "https://localhost:8080/"
        },
        "id": "BeQA0c_cb-ZO",
        "outputId": "070472a1-dd95-4cd6-ded4-b54864bab3e5"
      },
      "execution_count": 17,
      "outputs": [
        {
          "output_type": "stream",
          "name": "stdout",
          "text": [
            "/content\n",
            "--2025-07-24 12:37:57--  https://data.keithito.com/data/speech/LJSpeech-1.1.tar.bz2\n",
            "Resolving data.keithito.com (data.keithito.com)... 169.150.249.163, 2400:52e0:1a01::953:1\n",
            "Connecting to data.keithito.com (data.keithito.com)|169.150.249.163|:443... connected.\n",
            "HTTP request sent, awaiting response... 200 OK\n",
            "Length: 2748572632 (2.6G) [text/plain]\n",
            "Saving to: ‘LJSpeech-1.1.tar.bz2’\n",
            "\n",
            "LJSpeech-1.1.tar.bz 100%[===================>]   2.56G  16.4MB/s    in 71s     \n",
            "\n",
            "2025-07-24 12:39:09 (36.7 MB/s) - ‘LJSpeech-1.1.tar.bz2’ saved [2748572632/2748572632]\n",
            "\n"
          ]
        }
      ]
    },
    {
      "cell_type": "code",
      "source": [
        "# 1. PyTorch 최신 설치 및 런타임 재시작\n",
        "# !pip uninstall -y torch torchvision torchaudio\n",
        "# import os\n",
        "# os.kill(os.getpid(), 9)\n",
        "\n",
        "# 2. 필요 라이브러리 설치\n",
        "!pip install torch torchvision torchaudio --index-url https://download.pytorch.org/whl/cu118\n",
        "!pip install -q torch torchvision torchaudio\n",
        "!pip install -q librosa numpy matplotlib unidecode praat-parselmouth"
      ],
      "metadata": {
        "colab": {
          "base_uri": "https://localhost:8080/",
          "height": 1000
        },
        "id": "al_jpo18cBis",
        "outputId": "4baccb10-c79f-47a7-f996-4a8b422f9ce0"
      },
      "execution_count": 18,
      "outputs": [
        {
          "output_type": "stream",
          "name": "stdout",
          "text": [
            "Looking in indexes: https://download.pytorch.org/whl/cu118\n",
            "Requirement already satisfied: torch in /usr/local/lib/python3.11/dist-packages (2.6.0+cu124)\n",
            "Requirement already satisfied: torchvision in /usr/local/lib/python3.11/dist-packages (0.21.0+cu124)\n",
            "Requirement already satisfied: torchaudio in /usr/local/lib/python3.11/dist-packages (2.6.0+cu124)\n",
            "Requirement already satisfied: filelock in /usr/local/lib/python3.11/dist-packages (from torch) (3.18.0)\n",
            "Requirement already satisfied: typing-extensions>=4.10.0 in /usr/local/lib/python3.11/dist-packages (from torch) (4.14.1)\n",
            "Requirement already satisfied: networkx in /usr/local/lib/python3.11/dist-packages (from torch) (3.5)\n",
            "Requirement already satisfied: jinja2 in /usr/local/lib/python3.11/dist-packages (from torch) (3.1.6)\n",
            "Requirement already satisfied: fsspec in /usr/local/lib/python3.11/dist-packages (from torch) (2025.7.0)\n",
            "INFO: pip is looking at multiple versions of torch to determine which version is compatible with other requirements. This could take a while.\n",
            "Collecting torch\n",
            "  Downloading https://download.pytorch.org/whl/cu118/torch-2.7.1%2Bcu118-cp311-cp311-manylinux_2_28_x86_64.whl.metadata (28 kB)\n",
            "Collecting sympy>=1.13.3 (from torch)\n",
            "  Downloading https://download.pytorch.org/whl/sympy-1.13.3-py3-none-any.whl.metadata (12 kB)\n",
            "Collecting nvidia-cuda-nvrtc-cu11==11.8.89 (from torch)\n",
            "  Downloading https://download.pytorch.org/whl/cu118/nvidia_cuda_nvrtc_cu11-11.8.89-py3-none-manylinux1_x86_64.whl (23.2 MB)\n",
            "\u001b[2K     \u001b[90m━━━━━━━━━━━━━━━━━━━━━━━━━━━━━━━━━━━━━━━━\u001b[0m \u001b[32m23.2/23.2 MB\u001b[0m \u001b[31m30.1 MB/s\u001b[0m eta \u001b[36m0:00:00\u001b[0m\n",
            "\u001b[?25hCollecting nvidia-cuda-runtime-cu11==11.8.89 (from torch)\n",
            "  Downloading https://download.pytorch.org/whl/cu118/nvidia_cuda_runtime_cu11-11.8.89-py3-none-manylinux1_x86_64.whl (875 kB)\n",
            "\u001b[2K     \u001b[90m━━━━━━━━━━━━━━━━━━━━━━━━━━━━━━━━━━━━━━\u001b[0m \u001b[32m875.6/875.6 kB\u001b[0m \u001b[31m53.7 MB/s\u001b[0m eta \u001b[36m0:00:00\u001b[0m\n",
            "\u001b[?25hCollecting nvidia-cuda-cupti-cu11==11.8.87 (from torch)\n",
            "  Downloading https://download.pytorch.org/whl/cu118/nvidia_cuda_cupti_cu11-11.8.87-py3-none-manylinux1_x86_64.whl (13.1 MB)\n",
            "\u001b[2K     \u001b[90m━━━━━━━━━━━━━━━━━━━━━━━━━━━━━━━━━━━━━━━\u001b[0m \u001b[32m13.1/13.1 MB\u001b[0m \u001b[31m107.4 MB/s\u001b[0m eta \u001b[36m0:00:00\u001b[0m\n",
            "\u001b[?25hCollecting nvidia-cudnn-cu11==9.1.0.70 (from torch)\n",
            "  Downloading https://download.pytorch.org/whl/cu118/nvidia_cudnn_cu11-9.1.0.70-py3-none-manylinux2014_x86_64.whl (663.9 MB)\n",
            "\u001b[2K     \u001b[90m━━━━━━━━━━━━━━━━━━━━━━━━━━━━━━━━━━━━━\u001b[0m \u001b[32m663.9/663.9 MB\u001b[0m \u001b[31m641.2 kB/s\u001b[0m eta \u001b[36m0:00:00\u001b[0m\n",
            "\u001b[?25hCollecting nvidia-cublas-cu11==11.11.3.6 (from torch)\n",
            "  Downloading https://download.pytorch.org/whl/cu118/nvidia_cublas_cu11-11.11.3.6-py3-none-manylinux1_x86_64.whl (417.9 MB)\n",
            "\u001b[2K     \u001b[90m━━━━━━━━━━━━━━━━━━━━━━━━━━━━━━━━━━━━━\u001b[0m \u001b[32m417.9/417.9 MB\u001b[0m \u001b[31m819.3 kB/s\u001b[0m eta \u001b[36m0:00:00\u001b[0m\n",
            "\u001b[?25hCollecting nvidia-cufft-cu11==10.9.0.58 (from torch)\n",
            "  Downloading https://download.pytorch.org/whl/cu118/nvidia_cufft_cu11-10.9.0.58-py3-none-manylinux1_x86_64.whl (168.4 MB)\n",
            "\u001b[2K     \u001b[90m━━━━━━━━━━━━━━━━━━━━━━━━━━━━━━━━━━━━━━━\u001b[0m \u001b[32m168.4/168.4 MB\u001b[0m \u001b[31m1.5 MB/s\u001b[0m eta \u001b[36m0:00:00\u001b[0m\n",
            "\u001b[?25hCollecting nvidia-curand-cu11==10.3.0.86 (from torch)\n",
            "  Downloading https://download.pytorch.org/whl/cu118/nvidia_curand_cu11-10.3.0.86-py3-none-manylinux1_x86_64.whl (58.1 MB)\n",
            "\u001b[2K     \u001b[90m━━━━━━━━━━━━━━━━━━━━━━━━━━━━━━━━━━━━━━━━\u001b[0m \u001b[32m58.1/58.1 MB\u001b[0m \u001b[31m19.6 MB/s\u001b[0m eta \u001b[36m0:00:00\u001b[0m\n",
            "\u001b[?25hCollecting nvidia-cusolver-cu11==11.4.1.48 (from torch)\n",
            "  Downloading https://download.pytorch.org/whl/cu118/nvidia_cusolver_cu11-11.4.1.48-py3-none-manylinux1_x86_64.whl (128.2 MB)\n",
            "\u001b[2K     \u001b[90m━━━━━━━━━━━━━━━━━━━━━━━━━━━━━━━━━━━━━━━\u001b[0m \u001b[32m128.2/128.2 MB\u001b[0m \u001b[31m1.9 MB/s\u001b[0m eta \u001b[36m0:00:00\u001b[0m\n",
            "\u001b[?25hCollecting nvidia-cusparse-cu11==11.7.5.86 (from torch)\n",
            "  Downloading https://download.pytorch.org/whl/cu118/nvidia_cusparse_cu11-11.7.5.86-py3-none-manylinux1_x86_64.whl (204.1 MB)\n",
            "\u001b[2K     \u001b[90m━━━━━━━━━━━━━━━━━━━━━━━━━━━━━━━━━━━━━\u001b[0m \u001b[32m204.1/204.1 MB\u001b[0m \u001b[31m957.5 kB/s\u001b[0m eta \u001b[36m0:00:00\u001b[0m\n",
            "\u001b[?25hCollecting nvidia-nccl-cu11==2.21.5 (from torch)\n",
            "  Downloading https://download.pytorch.org/whl/cu118/nvidia_nccl_cu11-2.21.5-py3-none-manylinux2014_x86_64.whl (147.8 MB)\n",
            "\u001b[2K     \u001b[90m━━━━━━━━━━━━━━━━━━━━━━━━━━━━━━━━━━━━━━━\u001b[0m \u001b[32m147.8/147.8 MB\u001b[0m \u001b[31m4.4 MB/s\u001b[0m eta \u001b[36m0:00:00\u001b[0m\n",
            "\u001b[?25hCollecting nvidia-nvtx-cu11==11.8.86 (from torch)\n",
            "  Downloading https://download.pytorch.org/whl/cu118/nvidia_nvtx_cu11-11.8.86-py3-none-manylinux1_x86_64.whl (99 kB)\n",
            "\u001b[2K     \u001b[90m━━━━━━━━━━━━━━━━━━━━━━━━━━━━━━━━━━━━━━━━\u001b[0m \u001b[32m99.1/99.1 kB\u001b[0m \u001b[31m5.5 MB/s\u001b[0m eta \u001b[36m0:00:00\u001b[0m\n",
            "\u001b[?25hCollecting triton==3.3.1 (from torch)\n",
            "  Downloading https://download.pytorch.org/whl/triton-3.3.1-cp311-cp311-manylinux_2_27_x86_64.manylinux_2_28_x86_64.whl.metadata (1.5 kB)\n",
            "Requirement already satisfied: setuptools>=40.8.0 in /usr/local/lib/python3.11/dist-packages (from triton==3.3.1->torch) (75.2.0)\n",
            "Requirement already satisfied: numpy in /usr/local/lib/python3.11/dist-packages (from torchvision) (2.0.2)\n",
            "Requirement already satisfied: pillow!=8.3.*,>=5.3.0 in /usr/local/lib/python3.11/dist-packages (from torchvision) (11.3.0)\n",
            "Collecting torch\n",
            "  Downloading https://download.pytorch.org/whl/cu118/torch-2.6.0%2Bcu118-cp311-cp311-linux_x86_64.whl.metadata (27 kB)\n",
            "Requirement already satisfied: triton==3.2.0 in /usr/local/lib/python3.11/dist-packages (from torch) (3.2.0)\n",
            "Requirement already satisfied: sympy==1.13.1 in /usr/local/lib/python3.11/dist-packages (from torch) (1.13.1)\n",
            "Requirement already satisfied: mpmath<1.4,>=1.1.0 in /usr/local/lib/python3.11/dist-packages (from sympy==1.13.1->torch) (1.3.0)\n",
            "Requirement already satisfied: MarkupSafe>=2.0 in /usr/local/lib/python3.11/dist-packages (from jinja2->torch) (3.0.2)\n",
            "Downloading https://download.pytorch.org/whl/cu118/torch-2.6.0%2Bcu118-cp311-cp311-linux_x86_64.whl (848.7 MB)\n",
            "\u001b[2K   \u001b[90m━━━━━━━━━━━━━━━━━━━━━━━━━━━━━━━━━━━━━━━\u001b[0m \u001b[32m848.7/848.7 MB\u001b[0m \u001b[31m492.3 kB/s\u001b[0m eta \u001b[36m0:00:00\u001b[0m\n",
            "\u001b[?25hInstalling collected packages: nvidia-nvtx-cu11, nvidia-nccl-cu11, nvidia-cusparse-cu11, nvidia-curand-cu11, nvidia-cufft-cu11, nvidia-cuda-runtime-cu11, nvidia-cuda-nvrtc-cu11, nvidia-cuda-cupti-cu11, nvidia-cublas-cu11, nvidia-cusolver-cu11, nvidia-cudnn-cu11, torch\n",
            "  Attempting uninstall: torch\n",
            "    Found existing installation: torch 2.6.0+cu124\n",
            "    Uninstalling torch-2.6.0+cu124:\n",
            "      Successfully uninstalled torch-2.6.0+cu124\n",
            "Successfully installed nvidia-cublas-cu11-11.11.3.6 nvidia-cuda-cupti-cu11-11.8.87 nvidia-cuda-nvrtc-cu11-11.8.89 nvidia-cuda-runtime-cu11-11.8.89 nvidia-cudnn-cu11-9.1.0.70 nvidia-cufft-cu11-10.9.0.58 nvidia-curand-cu11-10.3.0.86 nvidia-cusolver-cu11-11.4.1.48 nvidia-cusparse-cu11-11.7.5.86 nvidia-nccl-cu11-2.21.5 nvidia-nvtx-cu11-11.8.86 torch-2.6.0+cu118\n"
          ]
        },
        {
          "output_type": "display_data",
          "data": {
            "application/vnd.colab-display-data+json": {
              "pip_warning": {
                "packages": [
                  "nvidia",
                  "torch",
                  "torchgen"
                ]
              },
              "id": "fc5b2f0a635e4596b347000d667dcef0"
            }
          },
          "metadata": {}
        },
        {
          "output_type": "stream",
          "name": "stdout",
          "text": [
            "\u001b[2K   \u001b[90m━━━━━━━━━━━━━━━━━━━━━━━━━━━━━━━━━━━━━━━━\u001b[0m \u001b[32m235.8/235.8 kB\u001b[0m \u001b[31m8.2 MB/s\u001b[0m eta \u001b[36m0:00:00\u001b[0m\n",
            "\u001b[2K   \u001b[90m━━━━━━━━━━━━━━━━━━━━━━━━━━━━━━━━━━━━━━━━\u001b[0m \u001b[32m10.8/10.8 MB\u001b[0m \u001b[31m108.4 MB/s\u001b[0m eta \u001b[36m0:00:00\u001b[0m\n",
            "\u001b[?25h"
          ]
        }
      ]
    },
    {
      "cell_type": "code",
      "source": [
        "# 필수 설치\n",
        "#!pip install -q librosa matplotlib unidecode praat-parselmouth\n",
        "\n",
        "import os\n",
        "import torch\n",
        "import torch.nn as nn\n",
        "import torch.optim as optim\n",
        "from torch.utils.data import Dataset, DataLoader\n",
        "import librosa\n",
        "import librosa.display\n",
        "import numpy as np\n",
        "import matplotlib.pyplot as plt\n",
        "import unidecode\n",
        "\n",
        "# 하이퍼파라미터\n",
        "SAMPLE_RATE = 22050\n",
        "N_MELS = 80\n",
        "N_FFT = 1024\n",
        "HOP_LENGTH = 256\n",
        "EMBED_DIM = 256\n",
        "N_HEADS = 2\n",
        "FF_DIM = 512\n",
        "N_LAYERS = 4\n",
        "BATCH_SIZE = 8\n",
        "EPOCHS = 3\n",
        "\n",
        "symbols = list(\"abcdefghijklmnopqrstuvwxyz \")\n",
        "symbol_to_id = {s: i + 1 for i, s in enumerate(symbols)}\n",
        "\n",
        "def text_to_seq(text):\n",
        "  #입력 text를 1차원 tensor로 변환한다. -> 1차원 벡터로 변환\n",
        "  #text를 소문자로 변환하고 그 소문자에 대한 ascii code값으로 변환하여 각 값을 1차원 tensor내에 저장\n",
        "    text = unidecode.unidecode(text.lower())\n",
        "    return [symbol_to_id.get(c, 0) for c in text if c in symbol_to_id]\n",
        "\n",
        "def dummy_durations(seq_len):\n",
        "  #text_to_seq함수에서 입력 text를 1차원 tensor로 변환한 것을 가지고\n",
        "  #거기에 맞춰 모든 음소(소리의 최소 단위)의 길이를 임의의 고정값으로 설정한 더미길이 sequence를 생성한다.\n",
        "  #즉 음소의 길이를 text_to_seq함수에서 출력한 1차원 tensor의 길이로 고정한다.\n",
        "  #\n",
        "  #\n",
        "  #dummy_durations(seq_len) 함수는 text_to_seq 함수가 반환하는 음소 시퀀스의 길이(seq_len)에 맞추어,\n",
        "  #모든 음소의 지속 시간을 동일한 고정값으로 설정한 1차원 텐서를 생성한다고 정리하면 될거 같습니다.\n",
        "    return torch.full((seq_len,), 5, dtype=torch.long)\n",
        "\n",
        "def extract_pitch_energy(wav_path):\n",
        "  #wav를 입력받아 pitch와 energy특징를 추출한다.\n",
        "    y, sr = librosa.load(wav_path, sr=SAMPLE_RATE)\n",
        "    pitches, magnitudes = librosa.piptrack(y=y, sr=sr, hop_length=HOP_LENGTH)\n",
        "    pitch = []\n",
        "    for i in range(pitches.shape[1]):\n",
        "        index = magnitudes[:, i].argmax()\n",
        "        pitch_val = pitches[index, i]\n",
        "        pitch.append(pitch_val)\n",
        "    pitch = np.array(pitch)\n",
        "    energy = librosa.feature.rms(y=y, hop_length=HOP_LENGTH)[0]\n",
        "    return pitch, energy\n",
        "\n",
        "class LJSpeechDataset(Dataset):\n",
        "    def __init__(self, metadata_path, data_dir):\n",
        "        self.data_dir = data_dir\n",
        "        self.samples = []\n",
        "        with open(metadata_path, 'r', encoding='utf-8') as f:\n",
        "            for line in f:\n",
        "                parts = line.strip().split('|')\n",
        "                wav_path = os.path.join(data_dir, 'wavs', parts[0] + '.wav')\n",
        "                text = parts[1]\n",
        "                self.samples.append((wav_path, text))\n",
        "    def __len__(self):\n",
        "        return len(self.samples)\n",
        "    def __getitem__(self, idx):\n",
        "        wav_path, text = self.samples[idx]\n",
        "        seq = torch.tensor(text_to_seq(text), dtype=torch.long)\n",
        "        y, sr = librosa.load(wav_path, sr=SAMPLE_RATE)\n",
        "        mel = librosa.feature.melspectrogram(y=y, sr=sr, n_fft=N_FFT, hop_length=HOP_LENGTH, n_mels=N_MELS)\n",
        "        mel_db = librosa.power_to_db(mel, ref=np.max).T\n",
        "        mel = torch.tensor(mel_db, dtype=torch.float32)\n",
        "        durations = dummy_durations(len(seq))\n",
        "        pitch_np, energy_np = extract_pitch_energy(wav_path)\n",
        "        pitch = torch.tensor(pitch_np, dtype=torch.float32)\n",
        "        energy = torch.tensor(energy_np, dtype=torch.float32)\n",
        "        return seq, mel, durations, pitch, energy, text\n",
        "\n",
        "def collate_fn(batch):\n",
        "  #여러 개의 개별 데이터 샘플(text ID sequence, mel-spectrogram, length, pitch, energy)를\n",
        "  #가장 긴 샘플에 맞춰 0으로 padding하여, 모든 샘플의 길이가 동일하도록 한다.\n",
        "  # padding한다는 것은 붙인다는 것이다. 즉 길이가 짧은 것은 0으로 채워 길이를 늘린다.\n",
        "    seqs, mels, durations, pitches, energies, texts = zip(*batch)\n",
        "    seqs_pad = nn.utils.rnn.pad_sequence(seqs, batch_first=True, padding_value=0)\n",
        "    mels_pad = nn.utils.rnn.pad_sequence(mels, batch_first=True)\n",
        "    durations_pad = nn.utils.rnn.pad_sequence(durations, batch_first=True)\n",
        "    pitches_pad = nn.utils.rnn.pad_sequence(pitches, batch_first=True)\n",
        "    energies_pad = nn.utils.rnn.pad_sequence(energies, batch_first=True)\n",
        "    return seqs_pad, mels_pad, durations_pad, pitches_pad, energies_pad, texts\n",
        "\n",
        "class TransformerBlock(nn.Module):\n",
        "  #Transformer\n",
        "    def __init__(self, embed_dim, num_heads, ff_dim, dropout=0.1):\n",
        "        super().__init__()\n",
        "        self.attn = nn.MultiheadAttention(embed_dim, num_heads, dropout=dropout)#입력 sequence내의 다른 위치에 attention하여 정보를 교환\n",
        "        self.norm1 = nn.LayerNorm(embed_dim)\n",
        "        self.ff = nn.Sequential(nn.Linear(embed_dim, ff_dim), nn.ReLU(), nn.Linear(ff_dim, embed_dim))#feed-forward layer\n",
        "        self.norm2 = nn.LayerNorm(embed_dim)\n",
        "        self.dropout = nn.Dropout(dropout)\n",
        "    def forward(self, x):\n",
        "        attn_out, _ = self.attn(x, x, x)\n",
        "        x = self.norm1(x + self.dropout(attn_out))\n",
        "        ff_out = self.ff(x)\n",
        "        x = self.norm2(x + self.dropout(ff_out))\n",
        "        return x\n",
        "\n",
        "def length_regulator(x, durations):\n",
        "  #encoder에서 나온 음소별 은닉 표현을 예측된 길이에 맞춰 시간 축으로 확장\n",
        "  #text token의 길이가 mel-spectrogram frame의 길이로 변환된다.\n",
        "  #mel spectrogram frame의 길이==25ms\n",
        "  #text token은 임베딩을 위해 입력할 수 있는 최소단위 이 길이가 frame의 길이로 변환된다.\n",
        "    outs = []\n",
        "    for b in range(x.size(0)):\n",
        "        max_len = min(x.size(1), durations.size(1))\n",
        "        expanded = [x[b, i].unsqueeze(0).repeat(durations[b, i], 1) for i in range(max_len)]\n",
        "        outs.append(torch.cat(expanded, dim=0))\n",
        "    max_len = max([o.size(0) for o in outs])\n",
        "    outs_padded = [\n",
        "        torch.cat([o, torch.zeros(max_len - o.size(0), x.size(2), device=x.device)], dim=0)\n",
        "        for o in outs\n",
        "    ]\n",
        "    return torch.stack(outs_padded)\n",
        "\n",
        "class Predictor(nn.Module):\n",
        "  #duration(길이), pitch, energy값을 예측하는 module\n",
        "    def __init__(self, embed_dim):\n",
        "        super().__init__()\n",
        "        self.layer = nn.Sequential(nn.Linear(embed_dim, embed_dim), nn.ReLU(), nn.Linear(embed_dim, 1))\n",
        "    def forward(self, x):\n",
        "        return self.layer(x).squeeze(-1)\n",
        "\n",
        "class FastSpeech2(nn.Module):\n",
        "    def __init__(self, vocab_size, embed_dim, n_heads, ff_dim, n_layers, mel_dim):\n",
        "        super().__init__()\n",
        "        self.embedding = nn.Embedding(vocab_size, embed_dim, padding_idx=0)#text음소를 n차원 vector로 변환\n",
        "        self.pos_embedding = nn.Parameter(torch.randn(1000, embed_dim))#학습 가능한 position embedding으로 변환\n",
        "        self.encoder_layers = nn.ModuleList([TransformerBlock(embed_dim, n_heads, ff_dim) for _ in range(n_layers)])#Transformer\n",
        "        self.duration_predictor = Predictor(embed_dim)#duration 예측 module\n",
        "        self.pitch_predictor = Predictor(embed_dim)#pitch 예측 module\n",
        "        self.energy_predictor = Predictor(embed_dim)#energy 예측 module\n",
        "        self.mel_linear = nn.Linear(embed_dim, mel_dim)\n",
        "    def forward(self, x, durations=None, pitch=None, energy=None):\n",
        "        b, seq_len = x.size()\n",
        "        x = self.embedding(x) + self.pos_embedding[:seq_len]\n",
        "        x = x.transpose(0, 1)\n",
        "        for layer in self.encoder_layers:\n",
        "            x = layer(x)\n",
        "        x = x.transpose(0, 1)\n",
        "        duration_pred = self.duration_predictor(x)\n",
        "        pitch_pred = self.pitch_predictor(x)\n",
        "        energy_pred = self.energy_predictor(x)\n",
        "        if durations is not None:\n",
        "            x_expanded = length_regulator(x, durations)\n",
        "        else:\n",
        "            x_expanded = x\n",
        "        if pitch is not None:\n",
        "            pitch_expanded = length_regulator(pitch.unsqueeze(-1), durations).squeeze(-1)\n",
        "            pitch_expanded = pitch_expanded.to(x_expanded.device)\n",
        "            x_expanded = x_expanded + pitch_expanded.unsqueeze(-1)\n",
        "        if energy is not None:\n",
        "            energy_expanded = length_regulator(energy.unsqueeze(-1), durations).squeeze(-1)\n",
        "            energy_expanded = energy_expanded.to(x_expanded.device)\n",
        "            x_expanded = x_expanded + energy_expanded.unsqueeze(-1)\n",
        "        mel_output = self.mel_linear(x_expanded)\n",
        "        return mel_output, duration_pred, pitch_pred, energy_pred\n",
        "\n",
        "# Downsample pitch/energy 라벨 (멜 프레임→토큰 단위)\n",
        "def downsample_label(label, durations, max_len):\n",
        "  #mel-spectrogram frame단위로 추출된 pitch나 energy label를 token길이에 맞춰 해상도를 줄인다.\n",
        "    out = []\n",
        "    idx = 0\n",
        "    for d in durations:\n",
        "        d = d.item()\n",
        "        if idx + d > len(label):\n",
        "            segment = label[idx:]\n",
        "        else:\n",
        "            segment = label[idx:idx+d]\n",
        "        if len(segment) == 0:\n",
        "            val = 0.0\n",
        "        else:\n",
        "            val = segment.float().mean().item()\n",
        "        out.append(val)\n",
        "        idx += d\n",
        "    while len(out) < max_len:\n",
        "        out.append(0.0)\n",
        "    return torch.tensor(out[:max_len], dtype=torch.float32)\n",
        "\n",
        "# 데이터 경로 설정\n",
        "DATA_PATH = '/content/LJSpeech-1.1'\n",
        "METADATA_PATH = os.path.join(DATA_PATH, 'metadata.csv')\n",
        "\n",
        "dataset = LJSpeechDataset(METADATA_PATH, DATA_PATH)\n",
        "loader = DataLoader(dataset, batch_size=BATCH_SIZE, shuffle=True, collate_fn=collate_fn)\n",
        "\n",
        "device = torch.device('cuda' if torch.cuda.is_available() else 'cpu')\n",
        "model = FastSpeech2(len(symbols)+1, EMBED_DIM, N_HEADS, FF_DIM, N_LAYERS, N_MELS).to(device)\n",
        "optimizer = optim.Adam(model.parameters(), lr=1e-3)\n",
        "criterion = nn.MSELoss()\n",
        "\n",
        "# 학습 루프\n",
        "for epoch in range(EPOCHS):\n",
        "    model.train()\n",
        "    total_loss = 0\n",
        "    for i, (texts, mels, durations, pitches, energies, _) in enumerate(loader):\n",
        "        texts, mels = texts.to(device), mels.to(device)\n",
        "        durations = durations.to(device)\n",
        "\n",
        "        # pitch, energy 라벨을 토큰 길이에 맞게 다운샘플링\n",
        "        pitch_ds = []\n",
        "        energy_ds = []\n",
        "        max_len = texts.size(1)\n",
        "        for b in range(texts.size(0)):\n",
        "            pitch_ds.append(downsample_label(pitches[b], durations[b], max_len))\n",
        "            energy_ds.append(downsample_label(energies[b], durations[b], max_len))\n",
        "        pitch_ds = torch.stack(pitch_ds).to(device)\n",
        "        energy_ds = torch.stack(energy_ds).to(device)\n",
        "\n",
        "        optimizer.zero_grad()\n",
        "        mel_pred, dur_pred, pitch_pred, energy_pred = model(texts, durations, pitch_ds, energy_ds)\n",
        "        min_len = min(mel_pred.size(1), mels.size(1))\n",
        "        mel_loss = criterion(mel_pred[:, :min_len, :], mels[:, :min_len, :])\n",
        "        dur_loss = criterion(dur_pred, durations.float())\n",
        "        pitch_loss = criterion(pitch_pred, pitch_ds)\n",
        "        energy_loss = criterion(energy_pred, energy_ds)\n",
        "        loss = mel_loss + dur_loss + pitch_loss + energy_loss\n",
        "        loss.backward()\n",
        "        optimizer.step()\n",
        "        total_loss += loss.item()\n",
        "        if i % 10 == 0:\n",
        "            print(f\"Epoch {epoch+1} Batch {i} Loss {loss.item():.4f}\")\n",
        "    print(f\"Epoch {epoch+1} Average Loss: {total_loss / len(loader):.4f}\")\n",
        "\n",
        "# 추론 함수\n",
        "@torch.no_grad()\n",
        "def synthesize(model, text, device='cpu'):\n",
        "    model.eval()\n",
        "    seq = torch.tensor(text_to_seq(text), dtype=torch.long).unsqueeze(0).to(device)\n",
        "    x = model.embedding(seq) + model.pos_embedding[:seq.size(1)]\n",
        "    x = x.transpose(0, 1)\n",
        "    for layer in model.encoder_layers:\n",
        "        x = layer(x)\n",
        "    x = x.transpose(0, 1)\n",
        "    duration_pred = model.duration_predictor(x).cpu().numpy()[0]\n",
        "    durations = [max(1, int(round(d))) for d in duration_pred]\n",
        "    x_expanded = length_regulator(x, torch.tensor(durations).unsqueeze(0).to(device))\n",
        "    pitch = torch.zeros_like(x_expanded[:, :, 0])\n",
        "    energy = torch.zeros_like(x_expanded[:, :, 0])\n",
        "    x_expanded = x_expanded + pitch.unsqueeze(-1) + energy.unsqueeze(-1)\n",
        "    mel_output = model.mel_linear(x_expanded)\n",
        "    return mel_output.squeeze(0).cpu().numpy()\n",
        "\n",
        "# Griffin-Lim 음성 복원\n",
        "def griffin_lim(mel_spec, n_iter=50, n_fft=1024, hop_length=256, win_length=1024):\n",
        "  #생성된 mel-spectrogram을 audio wave로 복원\n",
        "    S = librosa.db_to_power(mel_spec.T)\n",
        "    mel_basis = librosa.filters.mel(sr=SAMPLE_RATE, n_fft=n_fft, n_mels=N_MELS)\n",
        "    inv_mel_basis = np.linalg.pinv(mel_basis)\n",
        "    S_linear = np.maximum(1e-10, np.dot(inv_mel_basis, S))\n",
        "    y = librosa.griffinlim(S_linear, n_iter=n_iter, hop_length=hop_length, win_length=win_length)\n",
        "    return y\n",
        "\n",
        "# 테스트 추론 및 시각화\n",
        "text_input = \"Hello world this is a test of fast speech two synthesis.\"\n",
        "mel_pred = synthesize(model, text_input, device=device)\n",
        "\n",
        "plt.figure(figsize=(10,4))\n",
        "librosa.display.specshow(mel_pred.T, sr=SAMPLE_RATE, hop_length=HOP_LENGTH, x_axis='time', y_axis='mel')\n",
        "plt.colorbar(format='%+2.0f dB')\n",
        "plt.title('Synthesized Mel Spectrogram')\n",
        "plt.show()\n",
        "\n",
        "audio = griffin_lim(mel_pred, n_iter=60)\n",
        "from IPython.display import Audio\n",
        "Audio(audio, rate=SAMPLE_RATE)"
      ],
      "metadata": {
        "colab": {
          "base_uri": "https://localhost:8080/"
        },
        "id": "LRgnbFtxcCuz",
        "outputId": "946381be-5aa7-455b-cba6-5c38b06f8201"
      },
      "execution_count": null,
      "outputs": [
        {
          "metadata": {
            "tags": null
          },
          "name": "stdout",
          "output_type": "stream",
          "text": [
            "Epoch 1 Batch 0 Loss 443876.2812\n",
            "Epoch 1 Batch 10 Loss 459839.8438\n",
            "Epoch 1 Batch 20 Loss 363909.3125\n",
            "Epoch 1 Batch 30 Loss 369606.6250\n",
            "Epoch 1 Batch 40 Loss 282505.8438\n",
            "Epoch 1 Batch 50 Loss 469572.7500\n",
            "Epoch 1 Batch 60 Loss 285278.9375\n",
            "Epoch 1 Batch 70 Loss 261589.6406\n",
            "Epoch 1 Batch 80 Loss 319483.3125\n",
            "Epoch 1 Batch 90 Loss 146396.6562\n",
            "Epoch 1 Batch 100 Loss 329259.8438\n",
            "Epoch 1 Batch 110 Loss 251126.2969\n",
            "Epoch 1 Batch 120 Loss 303994.3125\n",
            "Epoch 1 Batch 130 Loss 200452.8281\n",
            "Epoch 1 Batch 140 Loss 254427.7031\n",
            "Epoch 1 Batch 150 Loss 313274.8125\n",
            "Epoch 1 Batch 160 Loss 233848.0156\n",
            "Epoch 1 Batch 170 Loss 364251.8438\n",
            "Epoch 1 Batch 180 Loss 258697.3750\n",
            "Epoch 1 Batch 190 Loss 224994.0000\n",
            "Epoch 1 Batch 200 Loss 211120.4062\n",
            "Epoch 1 Batch 210 Loss 357495.2500\n",
            "Epoch 1 Batch 220 Loss 391221.7500\n",
            "Epoch 1 Batch 230 Loss 294065.5312\n",
            "Epoch 1 Batch 240 Loss 227706.1875\n",
            "Epoch 1 Batch 250 Loss 281358.2188\n",
            "Epoch 1 Batch 260 Loss 372028.5000\n",
            "Epoch 1 Batch 270 Loss 271386.2812\n",
            "Epoch 1 Batch 280 Loss 317206.4062\n",
            "Epoch 1 Batch 290 Loss 180876.4375\n",
            "Epoch 1 Batch 300 Loss 242870.8281\n",
            "Epoch 1 Batch 310 Loss 248270.7188\n",
            "Epoch 1 Batch 320 Loss 355847.1250\n",
            "Epoch 1 Batch 330 Loss 284206.1875\n",
            "Epoch 1 Batch 340 Loss 295669.4062\n",
            "Epoch 1 Batch 350 Loss 289315.7812\n",
            "Epoch 1 Batch 360 Loss 425911.1562\n",
            "Epoch 1 Batch 370 Loss 204672.8594\n",
            "Epoch 1 Batch 380 Loss 282918.1250\n",
            "Epoch 1 Batch 390 Loss 248607.1562\n",
            "Epoch 1 Batch 400 Loss 234967.3281\n",
            "Epoch 1 Batch 410 Loss 333407.7812\n",
            "Epoch 1 Batch 420 Loss 249730.3281\n",
            "Epoch 1 Batch 430 Loss 327300.6875\n",
            "Epoch 1 Batch 440 Loss 261845.3750\n",
            "Epoch 1 Batch 450 Loss 321759.0000\n",
            "Epoch 1 Batch 460 Loss 281481.3750\n",
            "Epoch 1 Batch 470 Loss 316670.9062\n",
            "Epoch 1 Batch 480 Loss 304479.3750\n",
            "Epoch 1 Batch 490 Loss 303877.8125\n",
            "Epoch 1 Batch 500 Loss 301372.5312\n",
            "Epoch 1 Batch 510 Loss 314316.7500\n",
            "Epoch 1 Batch 520 Loss 246408.2969\n",
            "Epoch 1 Batch 530 Loss 305891.0625\n",
            "Epoch 1 Batch 540 Loss 274869.1250\n",
            "Epoch 1 Batch 550 Loss 222211.4844\n",
            "Epoch 1 Batch 560 Loss 306513.0000\n",
            "Epoch 1 Batch 570 Loss 289351.7812\n",
            "Epoch 1 Batch 580 Loss 231810.3438\n",
            "Epoch 1 Batch 590 Loss 296224.6562\n",
            "Epoch 1 Batch 600 Loss 326656.0938\n",
            "Epoch 1 Batch 610 Loss 253918.3906\n",
            "Epoch 1 Batch 620 Loss 284426.8750\n",
            "Epoch 1 Batch 630 Loss 210425.1562\n",
            "Epoch 1 Batch 640 Loss 207225.4375\n",
            "Epoch 1 Batch 650 Loss 340223.9375\n",
            "Epoch 1 Batch 660 Loss 232254.4375\n",
            "Epoch 1 Batch 670 Loss 271648.6250\n",
            "Epoch 1 Batch 680 Loss 321601.4062\n",
            "Epoch 1 Batch 690 Loss 249899.4375\n",
            "Epoch 1 Batch 700 Loss 364984.4375\n",
            "Epoch 1 Batch 710 Loss 295586.0000\n",
            "Epoch 1 Batch 720 Loss 269763.7812\n",
            "Epoch 1 Batch 730 Loss 288751.4062\n",
            "Epoch 1 Batch 740 Loss 266472.6875\n"
          ]
        }
      ]
    }
  ]
}